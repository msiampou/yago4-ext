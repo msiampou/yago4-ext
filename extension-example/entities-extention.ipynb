{
 "cells": [
  {
   "cell_type": "code",
   "execution_count": 1,
   "metadata": {},
   "outputs": [
    {
     "name": "stderr",
     "output_type": "stream",
     "text": [
      "/home/msiampou/anaconda3/lib/python3.7/site-packages/fuzzywuzzy/fuzz.py:11: UserWarning: Using slow pure-python SequenceMatcher. Install python-Levenshtein to remove this warning\n",
      "  warnings.warn('Using slow pure-python SequenceMatcher. Install python-Levenshtein to remove this warning')\n"
     ]
    }
   ],
   "source": [
    "from unidecode import unidecode\n",
    "from fuzzywuzzy import fuzz\n",
    "from shapely.geometry import Point\n",
    "from shapely.geometry import Polygon\n",
    "from shapely.geometry import MultiPolygon\n",
    "from shapely.geometry import shape\n",
    "from shapely import wkt\n",
    "import numpy as np\n",
    "import pandas as pd\n",
    "import pyparsing\n",
    "import geopandas"
   ]
  },
  {
   "cell_type": "markdown",
   "metadata": {},
   "source": [
    "#### Read all entities of Greek Administrative Areas in Yago"
   ]
  },
  {
   "cell_type": "code",
   "execution_count": 2,
   "metadata": {},
   "outputs": [],
   "source": [
    "def read_file(filename):\n",
    "\tf = open(filename, 'r') \n",
    "\tlines = f.readlines()\n",
    "\treturn lines"
   ]
  },
  {
   "cell_type": "code",
   "execution_count": 3,
   "metadata": {
    "scrolled": true
   },
   "outputs": [
    {
     "name": "stdout",
     "output_type": "stream",
     "text": [
      "['<http://yago-knowledge.org/resource/Central_Macedonia>\\t<http://www.w3.org/1999/02/22-rdf-syntax-ns#type>\\t<http://yago-knowledge.org/resource/Administrative_regions_of_Greece>\\t.\\n', '<http://yago-knowledge.org/resource/Epirus_(region)>\\t<http://www.w3.org/1999/02/22-rdf-syntax-ns#type>\\t<http://yago-knowledge.org/resource/Administrative_regions_of_Greece>\\t.\\n']\n"
     ]
    }
   ],
   "source": [
    "yago_regions = read_file('data/yago4/administrative_divisions_of_Greece/classes/Administrative_Regions_YAGO.txt')\n",
    "print(yago_regions[:2])\n",
    "\n",
    "yago_dec_administrations = read_file('data/yago4/administrative_divisions_of_Greece/classes/Decentralized_Administration_YAGO.txt')\n",
    "\n",
    "yago_municipalities = read_file('data/yago4/administrative_divisions_of_Greece/classes/Municipalities_and_communities_YAGO.txt')\n",
    "\n",
    "yago_reg_units = read_file('data/yago4/administrative_divisions_of_Greece/classes/Regional_units_YAGO.txt')\n",
    "\n",
    "yago_prefectures = read_file('data/yago4/administrative_divisions_of_Greece/classes/Prefectures_YAGO.txt')"
   ]
  },
  {
   "cell_type": "markdown",
   "metadata": {},
   "source": [
    "#### Initializing a dictionary for every Administrative Unit "
   ]
  },
  {
   "cell_type": "code",
   "execution_count": 4,
   "metadata": {},
   "outputs": [],
   "source": [
    "# create an entrty for each line, with an empty list as a value\n",
    "def dict_initialization(data, bool = False):\n",
    "    d = {}\n",
    "    if bool == True:\n",
    "        for line in data:\n",
    "            # key = vals[0].split(\"/\")[4].replace('>','')\n",
    "            d.setdefault(line.split(\"\\t\")[0],[])\n",
    "    else:\n",
    "        for line in data:\n",
    "            key = unidecode(line.split(\">\")[2].replace(\" .\", \"\").replace(\"\\n\", \"\").replace(\" \", \"\", 1)).lower()\n",
    "            value = line.split(\">\")[0].split(\"<\")[1]\n",
    "            d[value] = key\n",
    "    return d"
   ]
  },
  {
   "cell_type": "code",
   "execution_count": 5,
   "metadata": {},
   "outputs": [
    {
     "name": "stdout",
     "output_type": "stream",
     "text": [
      "Number of Decentralized Administrations in Yago: 7\n",
      "Number of Regions in Yago: 13\n",
      "Number of Regional Units in Yago: 90\n",
      "Number of Municipalities in Yago: 340\n"
     ]
    }
   ],
   "source": [
    "yago_dec_administrations_dict = dict_initialization(yago_dec_administrations, True)\n",
    "print (\"Number of Decentralized Administrations in Yago:\", len(yago_dec_administrations_dict))\n",
    "\n",
    "yago_regions_dict = dict_initialization(yago_regions, True)\n",
    "print (\"Number of Regions in Yago:\", len(yago_regions_dict))\n",
    "\n",
    "yago_reg_units_dict = dict_initialization(yago_reg_units, True)\n",
    "print (\"Number of Regional Units in Yago:\", len(yago_reg_units_dict))\n",
    "\n",
    "yago_municipalities_dict = dict_initialization(yago_municipalities, True)\n",
    "print (\"Number of Municipalities in Yago:\", len(yago_municipalities_dict))"
   ]
  },
  {
   "cell_type": "code",
   "execution_count": 6,
   "metadata": {},
   "outputs": [],
   "source": [
    "# keep only consistent entities from perfectures \n",
    "# and add them to regional units dictionary\n",
    "def clear_perfectures(prefectures, regional_units_dict):\n",
    "\tfor p in prefectures:\n",
    "\t\tsubj = p.split(\"\\t\")[0]\n",
    "\t\tif \"regional_unit\" in subj and subj not in regional_units_dict:\n",
    "\t\t\tregional_units_dict.setdefault(subj,[])\n",
    "\treturn regional_units_dict"
   ]
  },
  {
   "cell_type": "code",
   "execution_count": 7,
   "metadata": {
    "scrolled": true
   },
   "outputs": [
    {
     "name": "stdout",
     "output_type": "stream",
     "text": [
      "Added 2 more Regional Units from Perfectures file\n"
     ]
    }
   ],
   "source": [
    "prev_len = len(yago_reg_units_dict)\n",
    "yago_reg_units_dict = clear_perfectures(yago_prefectures, yago_reg_units_dict)\n",
    "print (\"Added\", len(yago_reg_units_dict) - prev_len, \"more Regional Units from Perfectures file\")"
   ]
  },
  {
   "cell_type": "markdown",
   "metadata": {},
   "source": [
    "#### Reading YAGO labels and storing them to corresponding dictionary"
   ]
  },
  {
   "cell_type": "code",
   "execution_count": 8,
   "metadata": {},
   "outputs": [],
   "source": [
    "yago_regions_labels = read_file('data/yago4/administrative_divisions_of_Greece/labels/administrative_regions.nt')\n",
    "yago_dec_administrations_labels = read_file('data/yago4/administrative_divisions_of_Greece/labels/dec_administration.nt')\n",
    "yago_municipalities_labels = read_file('data/yago4/administrative_divisions_of_Greece/labels/municipalities.nt')\n",
    "yago_prefectures_labels = read_file('data/yago4/administrative_divisions_of_Greece/labels/prefectures.nt')\n",
    "yago_reg_units_labels = read_file('data/yago4/administrative_divisions_of_Greece/labels/reg_units.nt')"
   ]
  },
  {
   "cell_type": "code",
   "execution_count": 9,
   "metadata": {},
   "outputs": [],
   "source": [
    "def insert_labels(data, d):\n",
    "\tfor line in data:\n",
    "\t\tvals = line.split(\"\\t\")\n",
    "\t\tkey = vals[0] #.split(\"/\")[4].replace('>','')\n",
    "\t\tvalue = vals[2].replace(\" - \", \"-\")\n",
    "\t\tif key in d and value not in d[key]:\n",
    "\t\t\td[key].append(value.split(\"@\")[0])\n",
    "\treturn d"
   ]
  },
  {
   "cell_type": "code",
   "execution_count": 10,
   "metadata": {
    "scrolled": false
   },
   "outputs": [
    {
     "name": "stdout",
     "output_type": "stream",
     "text": [
      "<http://yago-knowledge.org/resource/Decentralized_Administration_of_the_Aegean> ['\"Decentralized Administration of the Aegean\"', '\"Αποκεντρωμένη Διοίκηση Αιγαίου\"'] \n",
      "\n",
      "<http://yago-knowledge.org/resource/Decentralized_Administration_of_Crete> ['\"Decentralized Administration of Crete\"', '\"Αποκεντρωμένη Διοίκηση Κρήτης\"'] \n",
      "\n",
      "<http://yago-knowledge.org/resource/Decentralized_Administration_of_Macedonia_and_Thrace> ['\"Decentralized Administration of Macedonia and Thrace\"', '\"Αποκεντρωμένη Διοίκηση Μακεδονίας-Θράκης\"'] \n",
      "\n",
      "<http://yago-knowledge.org/resource/Decentralized_Administration_of_Peloponnese,_Western_Greece_and_the_Ionian> ['\"Peloponnese, West Greece and Ionian Sea Administration\"', '\"Decentralized Administration of Peloponnese\"', '\"Αποκεντρωμένη Διοίκηση Πελοποννήσου, Δυτικής Ελλάδας και Ιονίου\"'] \n",
      "\n",
      "<http://yago-knowledge.org/resource/Decentralized_Administration_of_Attica> ['\"Decentralized Administration of Attica\"', '\"Αποκεντρωμένη Διοίκηση Αττικής\"'] \n",
      "\n",
      "<http://yago-knowledge.org/resource/Decentralized_Administration_of_Epirus_and_Western_Macedonia> ['\"Epirus-Western Macedonia Administration\"', '\"Decentralized Administration of Epirus and Western Macedonia\"', '\"Αποκεντρωμένη Διοίκηση Ηπείρου-Δυτικής Μακεδονίας\"'] \n",
      "\n",
      "<http://yago-knowledge.org/resource/Decentralized_Administration_of_Thessaly_and_Central_Greece> ['\"Decentralized Administration of Thessaly and Central Greece\"', '\"Αποκεντρωμένη Διοίκηση Θεσσαλίας-Στερεάς Ελλάδας\"'] \n",
      "\n"
     ]
    }
   ],
   "source": [
    "yago_regions_dict = insert_labels(yago_regions_labels, yago_regions_dict)\n",
    "yago_dec_administrations_dict = insert_labels(yago_dec_administrations_labels, yago_dec_administrations_dict)\n",
    "yago_municipalities_dict = insert_labels(yago_municipalities_labels, yago_municipalities_dict)\n",
    "yago_reg_units_dict = insert_labels(yago_prefectures_labels, yago_reg_units_dict)\n",
    "yago_reg_units_dict = insert_labels(yago_reg_units_labels, yago_reg_units_dict)\n",
    "\n",
    "for x in yago_dec_administrations_dict:\n",
    "    print(x, yago_dec_administrations_dict[x], \"\\n\")"
   ]
  },
  {
   "cell_type": "markdown",
   "metadata": {},
   "source": [
    "#### Reading Gag labels and storing them to dictionaries"
   ]
  },
  {
   "cell_type": "code",
   "execution_count": 11,
   "metadata": {
    "scrolled": true
   },
   "outputs": [],
   "source": [
    "# read gag labels\n",
    "gag_regions_labels = read_file('data/gag/labels/regions.nt')\n",
    "gag_regions_dict = dict_initialization(gag_regions_labels)\n",
    "\n",
    "gag_regional_units_labels = read_file('data/gag/labels/regional_units.nt')\n",
    "gag_regional_units_dict = dict_initialization(gag_regional_units_labels)\n",
    "\n",
    "gag_dec_administrations_labels = read_file('data/gag/labels/decentralized_adm.nt')\n",
    "gag_dec_administrations_dict = dict_initialization(gag_dec_administrations_labels)\n",
    "\n",
    "gag_municipalities_labels = read_file('data/gag/labels/municipalities.nt')\n",
    "gag_municipalities_dict = dict_initialization(gag_municipalities_labels)"
   ]
  },
  {
   "cell_type": "markdown",
   "metadata": {},
   "source": [
    "#### Matching Yago with Gag Labels with a 0.8 similarity threshold"
   ]
  },
  {
   "cell_type": "code",
   "execution_count": 12,
   "metadata": {},
   "outputs": [],
   "source": [
    "def label_filter(yago, gag):\n",
    "\tmatched = {}\n",
    "\tnot_matched = []\n",
    "\t# for every label of each yago entity\n",
    "\tfor yago_entry in yago:\n",
    "\t\tmax_r = 0\n",
    "\t\tmstr = \"\"\n",
    "\t\t# find a match for each label\n",
    "\t\tfor label in yago[yago_entry]:\n",
    "\t\t\tmax_ratio = 0\n",
    "\t\t\tmatched_label = \"\"\n",
    "\t\t\tfor gag_entry in gag:\n",
    "\t\t\t\tulabel = unidecode(label).lower()\n",
    "\t\t\t\tr = fuzz.ratio(ulabel, gag[gag_entry]) \n",
    "\t\t\t\tif r > max_ratio:\n",
    "\t\t\t\t\tmax_ratio = r\n",
    "\t\t\t\t\tmatched_label = gag_entry\n",
    "\t\t\t\tif r == 100:\n",
    "\t\t\t\t\tbreak\n",
    "\t\t\t# keep the one with higher ratio\n",
    "\t\t\t# print(max_ratio, label, matched_label)\n",
    "\t\t\tif max_ratio > max_r:\n",
    "\t\t\t\tmax_r = max_ratio\n",
    "\t\t\t\tmstr = matched_label\n",
    "\t\t\tif max_r == 100:\n",
    "\t\t\t\tbreak\n",
    "\t\tif max_r > 80:\n",
    "\t\t\tkey = mstr\n",
    "\t\t\tif key not in matched:\n",
    "\t\t\t\tmatched.setdefault(key,[])\n",
    "\t\t\tmatched[key].append(yago_entry)\n",
    "\t\telse:\n",
    "\t\t\tnot_matched.append(yago_entry)\n",
    "\treturn (matched, not_matched)"
   ]
  },
  {
   "cell_type": "code",
   "execution_count": 13,
   "metadata": {
    "scrolled": true
   },
   "outputs": [
    {
     "name": "stdout",
     "output_type": "stream",
     "text": [
      "Decentralized Administrations: Matched  7 7\n",
      "Regions: Matched  13 13\n",
      "Regional Units: Matched  78 92\n",
      "67\n",
      "Municipalities: Matched  331 340\n",
      "322\n"
     ]
    }
   ],
   "source": [
    "(matched, unmatched) = label_filter(yago_dec_administrations_dict, gag_dec_administrations_dict)\n",
    "print(\"Decentralized Administrations: Matched \", (len(yago_dec_administrations_dict) - len(unmatched)), len(yago_dec_administrations_dict))\n",
    "\n",
    "(regions_matched, regions_unmatched) = label_filter(yago_regions_dict, gag_regions_dict)\n",
    "print(\"Regions: Matched \", (len(yago_regions_dict) - len(regions_unmatched)), len(yago_regions_dict))\n",
    "\n",
    "(regional_units_matched, regional_units_unmatched) = label_filter(yago_reg_units_dict, gag_regional_units_dict)\n",
    "print(\"Regional Units: Matched \", (len(yago_reg_units_dict) - len(regional_units_unmatched)), len(yago_reg_units_dict))\n",
    "print(len(regional_units_matched))\n",
    "\n",
    "(municipalities_matched, municipalities_unmatched) = label_filter(yago_municipalities_dict, gag_municipalities_dict)\n",
    "print(\"Municipalities: Matched \", (len(yago_municipalities_dict) - len(municipalities_unmatched)), len(yago_municipalities_dict))\n",
    "print(len(municipalities_matched))"
   ]
  },
  {
   "cell_type": "code",
   "execution_count": 14,
   "metadata": {},
   "outputs": [
    {
     "name": "stdout",
     "output_type": "stream",
     "text": [
      "325\n"
     ]
    }
   ],
   "source": [
    "gag_unmatched_reg_units = []\n",
    "for entry in gag_regional_units_dict:\n",
    "    if entry not in regional_units_matched:\n",
    "        gag_unmatched_reg_units.append(entry)\n",
    "\n",
    "gag_unmatched_municipalities = []\n",
    "print(len(gag_municipalities_dict))\n",
    "\n",
    "for entry in gag_municipalities_dict:   \n",
    "    if entry not in municipalities_matched:\n",
    "        gag_unmatched_municipalities.append(entry) "
   ]
  },
  {
   "cell_type": "markdown",
   "metadata": {},
   "source": [
    "#### Reading YAGO geoCoordinates and storing them as Points to a dictionary"
   ]
  },
  {
   "cell_type": "code",
   "execution_count": 15,
   "metadata": {},
   "outputs": [],
   "source": [
    "def parse_coordinates(data, bool = True):\n",
    "    if bool == True:\n",
    "        coords = {}\n",
    "        for line in data:\n",
    "            key = \"<\" + line.split(\"\\\"\")[1] + \">\"\n",
    "            if key == \"<subj>\":\n",
    "                continue\n",
    "            geo = line.split(\"geo:\")[1]\n",
    "            x1 = (geo.split(\",\")[0])\n",
    "            x2 = (geo.split(\",\")[1].replace(\"\\\"\",\"\"))\n",
    "            point = 'POINT (' + x1 + ' ' + x2 +')'\n",
    "            coords[key] = wkt.loads(point)\n",
    "        return coords\n",
    "    else:\n",
    "        data['id'] = data['id'].str.replace(\" \", \"\")\n",
    "        data['id'] = data['id'].str.replace(\"\\t\", \"\")\n",
    "        data['geometry'] = data['geometry'].str.replace('\\\"', '')\n",
    "        data[\"geometry\"] = data[\"geometry\"].str.replace(';http://www.opengis.net/def/crs/EPSG/0/2100', '')\n",
    "        data[\"geometry\"] = data[\"geometry\"].str.replace('http://strdf.di.uoa.gr/ontology#WKT', '')\n",
    "        data[\"geometry\"] = data[\"geometry\"].str.replace('^', '')\n",
    "        data['geometry'] = data['geometry'].apply(wkt.loads)\n",
    "        gdf = geopandas.GeoDataFrame(data, geometry='geometry', crs={'init':'epsg:2100'})\n",
    "        gdf.to_crs(4326, inplace = True)\n",
    "        return gdf"
   ]
  },
  {
   "cell_type": "code",
   "execution_count": 16,
   "metadata": {},
   "outputs": [
    {
     "name": "stdout",
     "output_type": "stream",
     "text": [
      "55\n"
     ]
    }
   ],
   "source": [
    "f = read_file('data/yago4/administrative_divisions_of_Greece/geoCoordinates/municipalities.csv')\n",
    "yago_municipalities_geo = parse_coordinates(f)\n",
    "\n",
    "f = read_file('data/yago4/administrative_divisions_of_Greece/geoCoordinates/regional_units.csv')\n",
    "yago_reg_units_geo = parse_coordinates(f)\n",
    "\n",
    "f = read_file('data/yago4/administrative_divisions_of_Greece/geoCoordinates/regions.csv')\n",
    "yago_regions_geo = parse_coordinates(f)\n",
    "\n",
    "print (len(yago_reg_units_geo))"
   ]
  },
  {
   "cell_type": "code",
   "execution_count": 17,
   "metadata": {},
   "outputs": [],
   "source": [
    "def add_prefecture_coordinates(data, reg_units):\n",
    "    for line in data:\n",
    "        key = \"<\" + line.split(\"\\\"\")[1] + \">\"\n",
    "        if key == \"<subj>\":\n",
    "            continue\n",
    "        if \"regional_unit\" in key and key not in reg_units:\n",
    "            geo = line.split(\"geo:\")[1]\n",
    "            x1 = (geo.split(\",\")[0])\n",
    "            x2 = (geo.split(\",\")[1].replace(\"\\\"\",\"\"))\n",
    "            point = 'POINT (' + x1 + ' ' + x2 +')'\n",
    "            reg_units[key] = wkt.loads(point)\n",
    "    return reg_units"
   ]
  },
  {
   "cell_type": "code",
   "execution_count": 18,
   "metadata": {
    "scrolled": true
   },
   "outputs": [
    {
     "name": "stdout",
     "output_type": "stream",
     "text": [
      "57\n"
     ]
    }
   ],
   "source": [
    "f = read_file('data/yago4/administrative_divisions_of_Greece/geoCoordinates/prefectures.csv')\n",
    "yago_reg_units_geo = add_prefecture_coordinates(f, yago_reg_units_geo)\n",
    "print (len(yago_reg_units_geo))"
   ]
  },
  {
   "cell_type": "markdown",
   "metadata": {},
   "source": [
    "#### Reading GAG geoCoordinates and storing them as Multipolygon to a dictionary"
   ]
  },
  {
   "cell_type": "code",
   "execution_count": 19,
   "metadata": {},
   "outputs": [
    {
     "name": "stderr",
     "output_type": "stream",
     "text": [
      "/home/msiampou/anaconda3/lib/python3.7/site-packages/pyproj/crs/crs.py:53: FutureWarning: '+init=<authority>:<code>' syntax is deprecated. '<authority>:<code>' is the preferred initialization method. When making the change, be mindful of axis order changes: https://pyproj4.github.io/pyproj/stable/gotchas.html#axis-order-changes-in-proj-6\n",
      "  return _prepare_from_string(\" \".join(pjargs))\n"
     ]
    }
   ],
   "source": [
    "df = pd.read_csv('data/gag/geometries/municipalities.csv')\n",
    "gag_municipalities_geo = parse_coordinates(df, False)\n",
    "\n",
    "df = pd.read_csv('data/gag/geometries/regional_units.csv')\n",
    "gag_reg_units_geo = parse_coordinates(df, False)\n",
    "\n",
    "df = pd.read_csv('data/gag/geometries/regions.csv')\n",
    "gag_regions_geo = parse_coordinates(df, False)"
   ]
  },
  {
   "cell_type": "markdown",
   "metadata": {},
   "source": [
    "#### Removing entities matched based on their labels if their coordinates have distance > 28km"
   ]
  },
  {
   "cell_type": "code",
   "execution_count": 20,
   "metadata": {},
   "outputs": [],
   "source": [
    "def geometry_filter(yago, gag, matched):\n",
    "\tfor _, gag_entry in gag.iterrows():\n",
    "\t\tif gag_entry.id in matched:\n",
    "\t\t\tgag_geo = gag_entry.geometry\n",
    "\t\t\tyago_entries = matched[gag_entry.id]\n",
    "\t\t\trem = []\n",
    "\t\t\tfor yago_entry in yago_entries:\n",
    "\t\t\t\tif yago_entry in yago:\n",
    "\t\t\t\t\tyago_geo = yago[yago_entry]\n",
    "\t\t\t\t\tif yago_geo.distance(gag_geo) > 28:\n",
    "\t\t\t\t\t\trem.append(yago_entry)\n",
    "\t\t\tfor entity in rem:\n",
    "\t\t\t\tyago_entries.remove(entity)\n",
    "\treturn matched"
   ]
  },
  {
   "cell_type": "code",
   "execution_count": 21,
   "metadata": {},
   "outputs": [
    {
     "name": "stdout",
     "output_type": "stream",
     "text": [
      "322 322\n",
      "67 67\n",
      "13 13\n"
     ]
    }
   ],
   "source": [
    "y = geometry_filter(yago_municipalities_geo, gag_municipalities_geo, municipalities_matched)\n",
    "print(len(municipalities_matched), len(y))\n",
    "\n",
    "y = geometry_filter(yago_reg_units_geo, gag_reg_units_geo, regional_units_matched)\n",
    "print(len(regional_units_matched), len(y))\n",
    "\n",
    "y = geometry_filter(yago_regions_geo, gag_regions_geo, regions_matched)\n",
    "print(len(regions_matched), len(y))"
   ]
  },
  {
   "cell_type": "code",
   "execution_count": 22,
   "metadata": {},
   "outputs": [],
   "source": [
    "def schema_serializer(geo_dict, entry):\n",
    "    for _, x in geo_dict.iterrows():\n",
    "        if x.id == entry:\n",
    "            geo_type = str(x.geometry).split(\" \")[0]\n",
    "            if geo_type == 'POLYGON':\n",
    "                geometry = str(x.geometry).replace('POLYGON ((','').replace('))', '')\n",
    "                pairs = geometry.split(',')\n",
    "                geo_str = \"\"\n",
    "                idx = 0\n",
    "                for p in pairs:\n",
    "                    if idx == 0:\n",
    "                        p1 = p.split(' ')[0]\n",
    "                        p2 = p.split(' ')[1]\n",
    "                    else:\n",
    "                        p1 = p.split(' ')[1]\n",
    "                        p2 = p.split(' ')[2]\n",
    "                    geo_str += p1 + ',' + p2 + ' '\n",
    "                    idx = idx + 1\n",
    "                return [geo_str[:-1]]\n",
    "            else:\n",
    "                geometry = str(x.geometry).replace('MULTIPOLYGON ','')\n",
    "                polygons = geometry.split('))')\n",
    "                polygons_list = []\n",
    "                for poly in polygons:\n",
    "                    poly = poly.replace(', ((', '').replace('(((', '').replace(')))', '').replace(')', '')\n",
    "                    pairs = poly.split(',')\n",
    "                    geo_str = \"\" \n",
    "                    for p in pairs:\n",
    "                        if p == '':\n",
    "                            continue\n",
    "                        points = p.split(' ')\n",
    "                        if len(points) == 2:\n",
    "                            p1 = points[0]\n",
    "                            p2 = points[1]\n",
    "                        elif len(points) == 3:\n",
    "                            p1 = points[1]\n",
    "                            p2 = points[2]\n",
    "                        geo_str += p1 + ',' + p2 + ' '\n",
    "                    polygons_list.append(geo_str)\n",
    "                return polygons_list[:-1]\n",
    "    return \"\""
   ]
  },
  {
   "cell_type": "markdown",
   "metadata": {},
   "source": [
    "#### Storing the rest of gag data"
   ]
  },
  {
   "cell_type": "code",
   "execution_count": 23,
   "metadata": {},
   "outputs": [],
   "source": [
    "codes = read_file('data/gag/has_code.nt')\n",
    "populations = read_file('data/gag/has_population.nt')\n",
    "labels = read_file('data/gag/labels.nt')\n",
    "seats = read_file('data/gag/has_seat.nt')\n",
    "contained = read_file('data/gag/containedIn.nt')"
   ]
  },
  {
   "cell_type": "code",
   "execution_count": 24,
   "metadata": {},
   "outputs": [],
   "source": [
    "def store_gag_obj(data):\n",
    "    d = {}\n",
    "    for line in data:\n",
    "        subj = line.split(\"<\")[1].split(\">\")[0]\n",
    "        obj = line.split(\"> \", 2)[2].replace(\"\\n\", \"\").replace(\" .\", \"\")\n",
    "        d[subj] = obj\n",
    "    return d"
   ]
  },
  {
   "cell_type": "code",
   "execution_count": 25,
   "metadata": {
    "scrolled": true
   },
   "outputs": [],
   "source": [
    "codes_dict = store_gag_obj(codes)\n",
    "populations_dict = store_gag_obj(populations)\n",
    "labels_dict = store_gag_obj(labels)\n",
    "seats_dict = store_gag_obj(seats)\n",
    "contained_dict = store_gag_obj(contained)"
   ]
  },
  {
   "cell_type": "markdown",
   "metadata": {},
   "source": [
    "#### Extending each matched YAGO entity"
   ]
  },
  {
   "cell_type": "code",
   "execution_count": 26,
   "metadata": {},
   "outputs": [],
   "source": [
    "prefix = \"@prefix rdfs: <http://www.w3.org/2000/01/rdf-schema#> .\\n\"\n",
    "foaf = \"@prefix foaf: <http://xmlns.com/foaf/0.1/> .\\n\"\n",
    "schema = \"@prefix schema: <http://schema.org/> .\\n\"\n",
    "exto = \"@prefix exto: <http://kr.di.uoa.gr/yago4-extension/ontology#> .\\n\"\n",
    "extr = \"@prefix extr: <http://kr.di.uoa.gr/yago4-extension/resource/> .\\n\"\n",
    "rdf = \"@prefix rdf: <http://www.w3.org/1999/02/22-rdf-syntax-ns#> .\\n\""
   ]
  },
  {
   "cell_type": "code",
   "execution_count": 27,
   "metadata": {},
   "outputs": [],
   "source": [
    "extention = open(\"yago4-extention.ttl\",\"w\")\n",
    "extention.writelines([prefix, foaf, schema, exto, extr, rdf, \"\\n\"]) "
   ]
  },
  {
   "cell_type": "markdown",
   "metadata": {},
   "source": [
    "#### Extending Decentralized Administration Entities"
   ]
  },
  {
   "cell_type": "code",
   "execution_count": 28,
   "metadata": {},
   "outputs": [],
   "source": [
    "for x in matched:\n",
    "    y = matched[x][0]\n",
    "    extention.write(y + \" rdf:type exto:Kallikratis_Decentralized_Administrations_of_Greece\")\n",
    "    extention.write(\" ;\\n schema:alternateName \" + labels_dict[x])\n",
    "    if x in codes_dict:\n",
    "        extention.write(\" ;\\n exto:has_code \" + codes_dict[x])\n",
    "    if x in populations_dict:\n",
    "        extention.write(\" ;\\n exto:has_population \" + populations_dict[x])\n",
    "    extention.write(\" .\\n\")"
   ]
  },
  {
   "cell_type": "markdown",
   "metadata": {},
   "source": [
    "#### Extending Regions Entities"
   ]
  },
  {
   "cell_type": "code",
   "execution_count": 29,
   "metadata": {
    "scrolled": false
   },
   "outputs": [],
   "source": [
    "geometry = 0\n",
    "for x in regions_matched:\n",
    "    y = regions_matched[x][0]\n",
    "    extention.write(y + \" rdf:type exto:Kallikratis_Regions_of_Greece\")\n",
    "    extention.write(\" ;\\n schema:alternateName \" + labels_dict[x])\n",
    "    if x in codes_dict:\n",
    "        extention.write(\" ;\\n exto:has_code \" + codes_dict[x])\n",
    "    if x in populations_dict:\n",
    "        extention.write(\" ;\\n exto:has_population \" + populations_dict[x])\n",
    "    if x in contained_dict:\n",
    "        obj = contained_dict[x].replace(\"<\",\"\").replace(\">\",\"\")\n",
    "        if obj in matched:\n",
    "            for z in matched[obj]:\n",
    "                extention.write(\" ;\\n schema:containedIn \" + z)\n",
    "    extention.write(\" ;\\n schema:geo extr:Geometry_\" + str(geometry))\n",
    "    geo = schema_serializer(gag_regions_geo, x)\n",
    "    for poly in geo:\n",
    "        extention.write(\" .\\n extr:Geometry_\" + str(geometry) + \" schema:polygon \" + \"\\\"\" + poly + \"\\\"\")\n",
    "    geometry += 1\n",
    "    extention.write(\" .\\n\")"
   ]
  },
  {
   "cell_type": "markdown",
   "metadata": {},
   "source": [
    "#### Extending Regional Units Entities"
   ]
  },
  {
   "cell_type": "code",
   "execution_count": 30,
   "metadata": {},
   "outputs": [],
   "source": [
    "for x in regional_units_matched:\n",
    "    y = regional_units_matched[x][0]\n",
    "    extention.write(y + \" rdf:type exto:Kallikratis_Regional_Units_of_Greece\")\n",
    "    extention.write(\" ;\\n schema:alternateName \" + labels_dict[x])\n",
    "    if x in codes_dict:\n",
    "        extention.write(\" ;\\n exto:has_code \" + codes_dict[x])\n",
    "    if x in populations_dict:\n",
    "        extention.write(\" ;\\n exto:has_population \" + populations_dict[x])\n",
    "    if x in contained_dict:\n",
    "        obj = contained_dict[x].replace(\"<\",\"\").replace(\">\",\"\")\n",
    "        if obj in regions_matched:\n",
    "            for z in regions_matched[obj]:\n",
    "                extention.write(\" ;\\n schema:containedIn \" + z)\n",
    "    extention.write(\" .\\n\")"
   ]
  },
  {
   "cell_type": "code",
   "execution_count": 31,
   "metadata": {},
   "outputs": [],
   "source": [
    "counter = 1\n",
    "reg_units_entities = {}\n",
    "for x in gag_unmatched_reg_units:\n",
    "    extention.write(\"extr:kallikratis_entity_\" + str(counter) + \" rdf:type exto:Kallikratis_Regional_Units_of_Greece\")\n",
    "    reg_units_entities[x] = \"extr:kallikratis_entity_\" + str(counter)\n",
    "    extention.write(\" ;\\n schema:alternateName \" + labels_dict[x])\n",
    "    if x in codes_dict:\n",
    "        extention.write(\" ;\\n exto:has_code \" + codes_dict[x])\n",
    "    if x in populations_dict:\n",
    "        extention.write(\" ;\\n exto:has_population \" + populations_dict[x])\n",
    "    if x in contained_dict:\n",
    "        obj = contained_dict[x].replace(\"<\",\"\").replace(\">\",\"\")\n",
    "        if obj in regions_matched:\n",
    "            for z in regions_matched[obj]:\n",
    "                extention.write(\" ;\\n schema:containedIn \" + z)\n",
    "    extention.write(\" .\\n\")\n",
    "    counter += 1"
   ]
  },
  {
   "cell_type": "markdown",
   "metadata": {},
   "source": [
    "#### Extending Municipalities Entities"
   ]
  },
  {
   "cell_type": "code",
   "execution_count": 32,
   "metadata": {},
   "outputs": [],
   "source": [
    "for x in municipalities_matched:\n",
    "    y = municipalities_matched[x][0]\n",
    "    extention.write(y + \" rdf:type exto:Kallikratis_Municipalities_of_Greece\")\n",
    "    extention.write(\" ;\\n schema:alternateName \" + labels_dict[x])\n",
    "    if x in codes_dict:\n",
    "        extention.write(\" ;\\n exto:has_code \" + codes_dict[x])\n",
    "    if x in populations_dict:\n",
    "        extention.write(\" ;\\n exto:has_population \" + populations_dict[x])\n",
    "    if x in contained_dict:\n",
    "        obj = contained_dict[x].replace(\"<\",\"\").replace(\">\",\"\")\n",
    "        if obj in regional_units_matched:\n",
    "            for z in regional_units_matched[obj]:\n",
    "                extention.write(\" ;\\n schema:containedIn \" + z)\n",
    "        else:\n",
    "            if obj in reg_units_entities:\n",
    "                extention.write(\" ;\\n schema:containedIn \" + reg_units_entities[obj])\n",
    "    extention.write(\" .\\n\")"
   ]
  },
  {
   "cell_type": "code",
   "execution_count": 33,
   "metadata": {},
   "outputs": [],
   "source": [
    "municipalities_entities = {}\n",
    "for x in gag_unmatched_municipalities:\n",
    "    extention.write(\"extr:kallikratis_entity_\" + str(counter) + \" rdf:type exto:Kallikratis_Municipalities_of_Greece\")\n",
    "    municipalities_entities[x] = \"extr:kallikratis_entity_\" + str(counter)\n",
    "    extention.write(\" ;\\n schema:alternateName \" + labels_dict[x])\n",
    "    if x in codes_dict:\n",
    "        extention.write(\" ;\\n exto:has_code \" + codes_dict[x])\n",
    "    if x in populations_dict:\n",
    "        extention.write(\" ;\\n exto:has_population \" + populations_dict[x])\n",
    "    if x in contained_dict:\n",
    "        obj = contained_dict[x].replace(\"<\",\"\").replace(\">\",\"\")\n",
    "        if obj in regional_units_matched:\n",
    "            for z in regional_units_matched[obj]:\n",
    "                extention.write(\" ;\\n schema:containedIn \" + z)\n",
    "        else:\n",
    "            if obj in reg_units_entities:\n",
    "                extention.write(\" ;\\n schema:containedIn \" + reg_units_entities[obj])\n",
    "    extention.write(\" .\\n\")\n",
    "    counter += 1"
   ]
  },
  {
   "cell_type": "markdown",
   "metadata": {},
   "source": [
    "#### Inserting Municipal Units Entities to YAGO"
   ]
  },
  {
   "cell_type": "code",
   "execution_count": 34,
   "metadata": {},
   "outputs": [],
   "source": [
    "municipal_units = read_file('data/gag/labels/municipal_units.nt')\n",
    "municipal_units_entities = {}\n",
    "for line in municipal_units:\n",
    "    subj = line.split(\"<\")[1].split(\">\")[0]\n",
    "    extention.write(\"extr:kallikratis_entity_\" + str(counter) + \" rdf:type exto:Kallikratis_Municipal_Units_of_Greece\")\n",
    "    municipal_units_entities[subj] = \"extr:kallikratis_entity_\" + str(counter)\n",
    "    extention.write(\" ;\\n schema:alternateName \" + labels_dict[subj])\n",
    "    if subj in codes_dict:\n",
    "        extention.write(\" ;\\n exto:has_code \" + codes_dict[subj])\n",
    "    if subj in populations_dict:\n",
    "        extention.write(\" ;\\n exto:has_population \" + populations_dict[subj])\n",
    "    if subj in contained_dict:\n",
    "        obj = contained_dict[subj].replace(\"<\",\"\").replace(\">\",\"\")\n",
    "        if obj in municipalities_matched:\n",
    "            for z in municipalities_matched[obj]:\n",
    "                extention.write(\" ;\\n schema:containedIn \" + z)\n",
    "        else:\n",
    "            if obj in municipalities_entities:\n",
    "                extention.write(\" ;\\n schema:containedIn \" + municipalities_entities[obj]) \n",
    "    extention.write(\" .\\n\")\n",
    "    counter += 1"
   ]
  },
  {
   "cell_type": "markdown",
   "metadata": {},
   "source": [
    "#### Inserting Municipal Communities Units Entities to YAGO"
   ]
  },
  {
   "cell_type": "code",
   "execution_count": 35,
   "metadata": {},
   "outputs": [],
   "source": [
    "municipal_com = read_file('data/gag/labels/municipal_communities.nt')\n",
    "municipal_com_entities = {}\n",
    "for line in municipal_com:\n",
    "    subj = line.split(\"<\")[1].split(\">\")[0]\n",
    "    extention.write(\"extr:kallikratis_entity_\" + str(counter) + \" rdf:type exto:Kallikratis_Municipal_Communities_of_Greece\")\n",
    "    municipal_com_entities[subj] = \"extr:kallikratis_entity_\" + str(counter)\n",
    "    extention.write(\" ;\\n schema:alternateName \" + labels_dict[subj])\n",
    "    if subj in codes_dict:\n",
    "        extention.write(\" ;\\n exto:has_code \" + codes_dict[subj])\n",
    "    if subj in populations_dict:\n",
    "        extention.write(\" ;\\n exto:has_population \" + populations_dict[subj])\n",
    "    if subj in contained_dict:\n",
    "        obj = contained_dict[subj].replace(\"<\",\"\").replace(\">\",\"\")\n",
    "        if obj in municipal_units_entities:\n",
    "            extention.write(\" ;\\n schema:containedIn \" + municipal_units_entities[obj])\n",
    "    extention.write(\" .\\n\")\n",
    "    counter += 1"
   ]
  },
  {
   "cell_type": "code",
   "execution_count": 36,
   "metadata": {},
   "outputs": [],
   "source": [
    "for x in seats_dict:\n",
    "    if x in municipalities_matched:\n",
    "        subj = municipalities_matched[x]\n",
    "    elif x in municipalities_entities:\n",
    "        subj = municipalities_entities[x]\n",
    "    else:\n",
    "        continue\n",
    "    key = seats_dict[x].replace(\"<\", \"\").replace(\">\", \"\")\n",
    "    obj = municipal_com_entities[key]\n",
    "    if type(subj) == list:\n",
    "        y = subj[0]\n",
    "        extention.write(y + \" exto:has_seat \" + obj + \" .\\n\")\n",
    "    else:\n",
    "        extention.write(subj + \" exto:has_seat \" + obj + \" .\\n\")"
   ]
  },
  {
   "cell_type": "code",
   "execution_count": 37,
   "metadata": {},
   "outputs": [],
   "source": [
    "extention.close()"
   ]
  }
 ],
 "metadata": {
  "kernelspec": {
   "display_name": "Python 3",
   "language": "python",
   "name": "python3"
  },
  "language_info": {
   "codemirror_mode": {
    "name": "ipython",
    "version": 3
   },
   "file_extension": ".py",
   "mimetype": "text/x-python",
   "name": "python",
   "nbconvert_exporter": "python",
   "pygments_lexer": "ipython3",
   "version": "3.7.6"
  }
 },
 "nbformat": 4,
 "nbformat_minor": 4
}
